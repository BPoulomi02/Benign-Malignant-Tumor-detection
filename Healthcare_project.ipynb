{
  "cells": [
    {
      "cell_type": "code",
      "execution_count": null,
      "metadata": {
        "colab": {
          "base_uri": "https://localhost:8080/"
        },
        "id": "NwmVpnCdCD9g",
        "outputId": "fba5aa12-82f9-4bb2-8beb-cd7f75cca3de"
      },
      "outputs": [
        {
          "output_type": "stream",
          "name": "stdout",
          "text": [
            "         id diagnosis  radius_mean  texture_mean  perimeter_mean  area_mean  \\\n",
            "0    842302         M        17.99         10.38          122.80     1001.0   \n",
            "1    842517         M        20.57         17.77          132.90     1326.0   \n",
            "2  84300903         M        19.69         21.25          130.00     1203.0   \n",
            "3  84348301         M        11.42         20.38           77.58      386.1   \n",
            "4  84358402         M        20.29         14.34          135.10     1297.0   \n",
            "\n",
            "   smoothness_mean  compactness_mean  concavity_mean  concave points_mean  \\\n",
            "0          0.11840           0.27760          0.3001              0.14710   \n",
            "1          0.08474           0.07864          0.0869              0.07017   \n",
            "2          0.10960           0.15990          0.1974              0.12790   \n",
            "3          0.14250           0.28390          0.2414              0.10520   \n",
            "4          0.10030           0.13280          0.1980              0.10430   \n",
            "\n",
            "   ...  radius_worst  texture_worst  perimeter_worst  area_worst  \\\n",
            "0  ...         25.38          17.33           184.60      2019.0   \n",
            "1  ...         24.99          23.41           158.80      1956.0   \n",
            "2  ...         23.57          25.53           152.50      1709.0   \n",
            "3  ...         14.91          26.50            98.87       567.7   \n",
            "4  ...         22.54          16.67           152.20      1575.0   \n",
            "\n",
            "   smoothness_worst  compactness_worst  concavity_worst  concave points_worst  \\\n",
            "0            0.1622             0.6656           0.7119                0.2654   \n",
            "1            0.1238             0.1866           0.2416                0.1860   \n",
            "2            0.1444             0.4245           0.4504                0.2430   \n",
            "3            0.2098             0.8663           0.6869                0.2575   \n",
            "4            0.1374             0.2050           0.4000                0.1625   \n",
            "\n",
            "   symmetry_worst  fractal_dimension_worst  \n",
            "0          0.4601                  0.11890  \n",
            "1          0.2750                  0.08902  \n",
            "2          0.3613                  0.08758  \n",
            "3          0.6638                  0.17300  \n",
            "4          0.2364                  0.07678  \n",
            "\n",
            "[5 rows x 32 columns]\n",
            "Index(['id', 'diagnosis', 'radius_mean', 'texture_mean', 'perimeter_mean',\n",
            "       'area_mean', 'smoothness_mean', 'compactness_mean', 'concavity_mean',\n",
            "       'concave points_mean', 'symmetry_mean', 'fractal_dimension_mean',\n",
            "       'radius_se', 'texture_se', 'perimeter_se', 'area_se', 'smoothness_se',\n",
            "       'compactness_se', 'concavity_se', 'concave points_se', 'symmetry_se',\n",
            "       'fractal_dimension_se', 'radius_worst', 'texture_worst',\n",
            "       'perimeter_worst', 'area_worst', 'smoothness_worst',\n",
            "       'compactness_worst', 'concavity_worst', 'concave points_worst',\n",
            "       'symmetry_worst', 'fractal_dimension_worst'],\n",
            "      dtype='object')\n"
          ]
        }
      ],
      "source": [
        "import pandas as pd\n",
        "\n",
        "# Load the CSV file\n",
        "file_path = '/content/data.csv'\n",
        "df = pd.read_csv(file_path)\n",
        "\n",
        "# Display the first few rows and check the columns\n",
        "print(df.head())\n",
        "print(df.columns)\n"
      ]
    },
    {
      "cell_type": "code",
      "execution_count": null,
      "metadata": {
        "colab": {
          "base_uri": "https://localhost:8080/",
          "height": 1000
        },
        "id": "XGKAfWRNFeZf",
        "outputId": "6e629969-5060-4195-d769-2aa409292f84"
      },
      "outputs": [
        {
          "output_type": "stream",
          "name": "stdout",
          "text": [
            "                 id  radius_mean  texture_mean  perimeter_mean    area_mean  \\\n",
            "count  5.690000e+02   569.000000    569.000000      569.000000   569.000000   \n",
            "mean   3.037183e+07    14.127292     19.289649       91.969033   654.889104   \n",
            "std    1.250206e+08     3.524049      4.301036       24.298981   351.914129   \n",
            "min    8.670000e+03     6.981000      9.710000       43.790000   143.500000   \n",
            "25%    8.692180e+05    11.700000     16.170000       75.170000   420.300000   \n",
            "50%    9.060240e+05    13.370000     18.840000       86.240000   551.100000   \n",
            "75%    8.813129e+06    15.780000     21.800000      104.100000   782.700000   \n",
            "max    9.113205e+08    28.110000     39.280000      188.500000  2501.000000   \n",
            "\n",
            "       smoothness_mean  compactness_mean  concavity_mean  concave points_mean  \\\n",
            "count       569.000000        569.000000      569.000000           569.000000   \n",
            "mean          0.096360          0.104341        0.088799             0.048919   \n",
            "std           0.014064          0.052813        0.079720             0.038803   \n",
            "min           0.052630          0.019380        0.000000             0.000000   \n",
            "25%           0.086370          0.064920        0.029560             0.020310   \n",
            "50%           0.095870          0.092630        0.061540             0.033500   \n",
            "75%           0.105300          0.130400        0.130700             0.074000   \n",
            "max           0.163400          0.345400        0.426800             0.201200   \n",
            "\n",
            "       symmetry_mean  ...  radius_worst  texture_worst  perimeter_worst  \\\n",
            "count     569.000000  ...    569.000000     569.000000       569.000000   \n",
            "mean        0.181162  ...     16.269190      25.677223       107.261213   \n",
            "std         0.027414  ...      4.833242       6.146258        33.602542   \n",
            "min         0.106000  ...      7.930000      12.020000        50.410000   \n",
            "25%         0.161900  ...     13.010000      21.080000        84.110000   \n",
            "50%         0.179200  ...     14.970000      25.410000        97.660000   \n",
            "75%         0.195700  ...     18.790000      29.720000       125.400000   \n",
            "max         0.304000  ...     36.040000      49.540000       251.200000   \n",
            "\n",
            "        area_worst  smoothness_worst  compactness_worst  concavity_worst  \\\n",
            "count   569.000000        569.000000         569.000000       569.000000   \n",
            "mean    880.583128          0.132369           0.254265         0.272188   \n",
            "std     569.356993          0.022832           0.157336         0.208624   \n",
            "min     185.200000          0.071170           0.027290         0.000000   \n",
            "25%     515.300000          0.116600           0.147200         0.114500   \n",
            "50%     686.500000          0.131300           0.211900         0.226700   \n",
            "75%    1084.000000          0.146000           0.339100         0.382900   \n",
            "max    4254.000000          0.222600           1.058000         1.252000   \n",
            "\n",
            "       concave points_worst  symmetry_worst  fractal_dimension_worst  \n",
            "count            569.000000      569.000000               569.000000  \n",
            "mean               0.114606        0.290076                 0.083946  \n",
            "std                0.065732        0.061867                 0.018061  \n",
            "min                0.000000        0.156500                 0.055040  \n",
            "25%                0.064930        0.250400                 0.071460  \n",
            "50%                0.099930        0.282200                 0.080040  \n",
            "75%                0.161400        0.317900                 0.092080  \n",
            "max                0.291000        0.663800                 0.207500  \n",
            "\n",
            "[8 rows x 31 columns]\n"
          ]
        },
        {
          "output_type": "display_data",
          "data": {
            "text/plain": [
              "<Figure size 640x480 with 1 Axes>"
            ],
            "image/png": "[encoded data removed]"
          },
          "metadata": {}
        }
      ],
      "source": [
        "import seaborn as sns\n",
        "import matplotlib.pyplot as plt\n",
        "\n",
        "# Basic statistics of numerical columns\n",
        "print(df.describe())\n",
        "\n",
        "# Check class distribution\n",
        "sns.countplot(df['diagnosis'])\n",
        "plt.title('Diagnosis Distribution')\n",
        "plt.show()\n",
        "\n",
        "\n",
        "\n",
        "\n"
      ]
    },
    {
      "cell_type": "code",
      "execution_count": null,
      "metadata": {
        "id": "nIQ1zIShGIDh"
      },
      "outputs": [],
      "source": [
        "# Assuming selecting relevant features for training the model\n",
        "selected_features = ['radius_mean', 'texture_mean', 'perimeter_mean', 'compactness_mean', 'area_mean',\n",
        "                     'smoothness_mean', 'concavity_mean', 'fractal_dimension_mean']\n",
        "\n",
        "X = df[selected_features]\n",
        "y = df['diagnosis']  # Target variable\n",
        "\n",
        "# Splitting the dataset into training and testing sets\n",
        "from sklearn.model_selection import train_test_split\n",
        "\n",
        "X_train, X_test, y_train, y_test = train_test_split(X, y, test_size=0.2, random_state=42)\n"
      ]
    },
    {
      "cell_type": "code",
      "execution_count": null,
      "metadata": {
        "colab": {
          "base_uri": "https://localhost:8080/"
        },
        "id": "XYCoUd-MG9tp",
        "outputId": "9be04cfa-5e99-45cb-88c8-ec78650274a6"
      },
      "outputs": [
        {
          "output_type": "stream",
          "name": "stderr",
          "text": [
            "/usr/local/lib/python3.10/dist-packages/sklearn/linear_model/_logistic.py:458: ConvergenceWarning: lbfgs failed to converge (status=1):\n",
            "STOP: TOTAL NO. of ITERATIONS REACHED LIMIT.\n",
            "\n",
            "Increase the number of iterations (max_iter) or scale the data as shown in:\n",
            "    https://scikit-learn.org/stable/modules/preprocessing.html\n",
            "Please also refer to the documentation for alternative solver options:\n",
            "    https://scikit-learn.org/stable/modules/linear_model.html#logistic-regression\n",
            "  n_iter_i = _check_optimize_result(\n"
          ]
        },
        {
          "output_type": "stream",
          "name": "stdout",
          "text": [
            "Model: Logistic Regression\n",
            "Accuracy: 0.9298245614035088\n",
            "Classification Report:\n",
            "               precision    recall  f1-score   support\n",
            "\n",
            "           B       0.94      0.94      0.94        71\n",
            "           M       0.91      0.91      0.91        43\n",
            "\n",
            "    accuracy                           0.93       114\n",
            "   macro avg       0.93      0.93      0.93       114\n",
            "weighted avg       0.93      0.93      0.93       114\n",
            "\n",
            "Model: Random Forest\n",
            "Accuracy: 0.9473684210526315\n",
            "Classification Report:\n",
            "               precision    recall  f1-score   support\n",
            "\n",
            "           B       0.96      0.96      0.96        71\n",
            "           M       0.93      0.93      0.93        43\n",
            "\n",
            "    accuracy                           0.95       114\n",
            "   macro avg       0.94      0.94      0.94       114\n",
            "weighted avg       0.95      0.95      0.95       114\n",
            "\n",
            "Model: SVM\n",
            "Accuracy: 0.9210526315789473\n",
            "Classification Report:\n",
            "               precision    recall  f1-score   support\n",
            "\n",
            "           B       0.89      1.00      0.94        71\n",
            "           M       1.00      0.79      0.88        43\n",
            "\n",
            "    accuracy                           0.92       114\n",
            "   macro avg       0.94      0.90      0.91       114\n",
            "weighted avg       0.93      0.92      0.92       114\n",
            "\n",
            "Model: Naive Bayes\n",
            "Accuracy: 0.9649122807017544\n",
            "Classification Report:\n",
            "               precision    recall  f1-score   support\n",
            "\n",
            "           B       0.95      1.00      0.97        71\n",
            "           M       1.00      0.91      0.95        43\n",
            "\n",
            "    accuracy                           0.96       114\n",
            "   macro avg       0.97      0.95      0.96       114\n",
            "weighted avg       0.97      0.96      0.96       114\n",
            "\n"
          ]
        }
      ],
      "source": [
        "from sklearn.linear_model import LogisticRegression\n",
        "from sklearn.ensemble import RandomForestClassifier\n",
        "from sklearn.svm import SVC\n",
        "from sklearn.naive_bayes import GaussianNB\n",
        "from sklearn.metrics import accuracy_score, classification_report\n",
        "\n",
        "# Initialize models\n",
        "models = {\n",
        "    'Logistic Regression': LogisticRegression(),\n",
        "    'Random Forest': RandomForestClassifier(),\n",
        "    'SVM': SVC(),\n",
        "    'Naive Bayes': GaussianNB()\n",
        "}\n",
        "\n",
        "# Train and evaluate each model\n",
        "results = {}\n",
        "for name, model in models.items():\n",
        "    model.fit(X_train, y_train)\n",
        "    y_pred = model.predict(X_test)\n",
        "    accuracy = accuracy_score(y_test, y_pred)\n",
        "    results[name] = {\n",
        "        'model': model,\n",
        "        'accuracy': accuracy,\n",
        "        'classification_report': classification_report(y_test, y_pred)\n",
        "    }\n",
        "\n",
        "# Print results and compare models\n",
        "for name, result in results.items():\n",
        "    print(f\"Model: {name}\")\n",
        "    print(f\"Accuracy: {result['accuracy']}\")\n",
        "    print(f\"Classification Report:\\n {result['classification_report']}\")\n"
      ]
    },
    {
      "cell_type": "code",
      "execution_count": null,
      "metadata": {
        "colab": {
          "base_uri": "https://localhost:8080/"
        },
        "id": "upROLgQfIZQU",
        "outputId": "11796b19-226f-4e80-9977-c74c1142d86e"
      },
      "outputs": [
        {
          "output_type": "stream",
          "name": "stdout",
          "text": [
            "Found 1271 images belonging to 3 classes.\n",
            "Found 317 images belonging to 3 classes.\n"
          ]
        }
      ],
      "source": [
        "from tensorflow.keras.preprocessing.image import ImageDataGenerator\n",
        "\n",
        "# Define the paths\n",
        "normal_path = '/content/drive/MyDrive/healthcare project/normal'\n",
        "benign_path = '/content/drive/MyDrive/healthcare project/benign'\n",
        "malignant_path = '/content/drive/MyDrive/healthcare project/malignant'\n",
        "\n",
        "# Create an ImageDataGenerator for preprocessing\n",
        "datagen = ImageDataGenerator(rescale=1.0/255.0, validation_split=0.2)\n",
        "\n",
        "# Prepare the data generators\n",
        "train_generator = datagen.flow_from_directory(\n",
        "    '/content/drive/MyDrive/healthcare project',\n",
        "    target_size=(150, 150),\n",
        "    batch_size=32,\n",
        "    class_mode='categorical',\n",
        "    subset='training'\n",
        ")\n",
        "\n",
        "validation_generator = datagen.flow_from_directory(\n",
        "    '/content/drive/MyDrive/healthcare project',\n",
        "    target_size=(150, 150),\n",
        "    batch_size=32,\n",
        "    class_mode='categorical',\n",
        "    subset='validation'\n",
        ")\n"
      ]
    },
    {
      "cell_type": "code",
      "execution_count": null,
      "metadata": {
        "colab": {
          "base_uri": "https://localhost:8080/",
          "height": 1000
        },
        "id": "LYe3uiIBJGhj",
        "outputId": "c7e201a9-bad9-40ed-d42d-465becca20a8"
      },
      "outputs": [
        {
          "output_type": "stream",
          "name": "stdout",
          "text": [
            "Epoch 1/25\n",
            "40/40 [==============================] - 353s 9s/step - loss: 0.0309 - accuracy: 0.9913 - val_loss: 0.0000e+00 - val_accuracy: 1.0000\n",
            "Epoch 2/25\n",
            "40/40 [==============================] - 13s 317ms/step - loss: 0.0000e+00 - accuracy: 1.0000 - val_loss: 0.0000e+00 - val_accuracy: 1.0000\n",
            "Epoch 3/25\n",
            "40/40 [==============================] - 13s 319ms/step - loss: 0.0000e+00 - accuracy: 1.0000 - val_loss: 0.0000e+00 - val_accuracy: 1.0000\n",
            "Epoch 4/25\n",
            "40/40 [==============================] - 13s 318ms/step - loss: 0.0000e+00 - accuracy: 1.0000 - val_loss: 0.0000e+00 - val_accuracy: 1.0000\n",
            "Epoch 5/25\n",
            "40/40 [==============================] - 13s 317ms/step - loss: 0.0000e+00 - accuracy: 1.0000 - val_loss: 0.0000e+00 - val_accuracy: 1.0000\n",
            "Epoch 6/25\n",
            "40/40 [==============================] - 13s 319ms/step - loss: 0.0000e+00 - accuracy: 1.0000 - val_loss: 0.0000e+00 - val_accuracy: 1.0000\n",
            "Epoch 7/25\n",
            "40/40 [==============================] - 13s 319ms/step - loss: 0.0000e+00 - accuracy: 1.0000 - val_loss: 0.0000e+00 - val_accuracy: 1.0000\n",
            "Epoch 8/25\n",
            "40/40 [==============================] - 12s 307ms/step - loss: 0.0000e+00 - accuracy: 1.0000 - val_loss: 0.0000e+00 - val_accuracy: 1.0000\n",
            "Epoch 9/25\n",
            "40/40 [==============================] - 12s 311ms/step - loss: 0.0000e+00 - accuracy: 1.0000 - val_loss: 0.0000e+00 - val_accuracy: 1.0000\n",
            "Epoch 10/25\n",
            "40/40 [==============================] - 12s 312ms/step - loss: 0.0000e+00 - accuracy: 1.0000 - val_loss: 0.0000e+00 - val_accuracy: 1.0000\n",
            "Epoch 11/25\n",
            "40/40 [==============================] - 13s 320ms/step - loss: 0.0000e+00 - accuracy: 1.0000 - val_loss: 0.0000e+00 - val_accuracy: 1.0000\n",
            "Epoch 12/25\n",
            "40/40 [==============================] - 13s 315ms/step - loss: 0.0000e+00 - accuracy: 1.0000 - val_loss: 0.0000e+00 - val_accuracy: 1.0000\n",
            "Epoch 13/25\n",
            "40/40 [==============================] - 13s 316ms/step - loss: 0.0000e+00 - accuracy: 1.0000 - val_loss: 0.0000e+00 - val_accuracy: 1.0000\n",
            "Epoch 14/25\n",
            "40/40 [==============================] - 13s 317ms/step - loss: 0.0000e+00 - accuracy: 1.0000 - val_loss: 0.0000e+00 - val_accuracy: 1.0000\n",
            "Epoch 15/25\n",
            "40/40 [==============================] - 13s 315ms/step - loss: 0.0000e+00 - accuracy: 1.0000 - val_loss: 0.0000e+00 - val_accuracy: 1.0000\n",
            "Epoch 16/25\n",
            "40/40 [==============================] - 15s 372ms/step - loss: 0.0000e+00 - accuracy: 1.0000 - val_loss: 0.0000e+00 - val_accuracy: 1.0000\n",
            "Epoch 17/25\n",
            "40/40 [==============================] - 13s 316ms/step - loss: 0.0000e+00 - accuracy: 1.0000 - val_loss: 0.0000e+00 - val_accuracy: 1.0000\n",
            "Epoch 18/25\n",
            "40/40 [==============================] - 13s 316ms/step - loss: 0.0000e+00 - accuracy: 1.0000 - val_loss: 0.0000e+00 - val_accuracy: 1.0000\n",
            "Epoch 19/25\n",
            "40/40 [==============================] - 13s 318ms/step - loss: 0.0000e+00 - accuracy: 1.0000 - val_loss: 0.0000e+00 - val_accuracy: 1.0000\n",
            "Epoch 20/25\n",
            "40/40 [==============================] - 13s 317ms/step - loss: 0.0000e+00 - accuracy: 1.0000 - val_loss: 0.0000e+00 - val_accuracy: 1.0000\n",
            "Epoch 21/25\n",
            "40/40 [==============================] - 13s 315ms/step - loss: 0.0000e+00 - accuracy: 1.0000 - val_loss: 0.0000e+00 - val_accuracy: 1.0000\n",
            "Epoch 22/25\n",
            "40/40 [==============================] - 15s 368ms/step - loss: 0.0000e+00 - accuracy: 1.0000 - val_loss: 0.0000e+00 - val_accuracy: 1.0000\n",
            "Epoch 23/25\n",
            "40/40 [==============================] - 15s 372ms/step - loss: 0.0000e+00 - accuracy: 1.0000 - val_loss: 0.0000e+00 - val_accuracy: 1.0000\n",
            "Epoch 24/25\n",
            "40/40 [==============================] - 13s 314ms/step - loss: 0.0000e+00 - accuracy: 1.0000 - val_loss: 0.0000e+00 - val_accuracy: 1.0000\n",
            "Epoch 25/25\n",
            "40/40 [==============================] - 13s 314ms/step - loss: 0.0000e+00 - accuracy: 1.0000 - val_loss: 0.0000e+00 - val_accuracy: 1.0000\n"
          ]
        },
        {
          "output_type": "display_data",
          "data": {
            "text/plain": [
              "<Figure size 640x480 with 1 Axes>"
            ],
            "image/png": "[encoded data removed]"
          },
          "metadata": {}
        }
      ],
      "source": [
        "from keras.models import Sequential\n",
        "from keras.layers import Conv2D, MaxPooling2D, Flatten, Dense, Dropout\n",
        "\n",
        "# Define the CNN model\n",
        "cnn_model = Sequential([\n",
        "    Conv2D(32, (3, 3), activation='relu', input_shape=(150, 150, 3)),\n",
        "    MaxPooling2D((2, 2)),\n",
        "    Conv2D(64, (3, 3), activation='relu'),\n",
        "    MaxPooling2D((2, 2)),\n",
        "    Conv2D(128, (3, 3), activation='relu'),\n",
        "    MaxPooling2D((2, 2)),\n",
        "    Flatten(),\n",
        "    Dense(128, activation='relu'),\n",
        "    Dropout(0.5),\n",
        "    Dense(3, activation='softmax')\n",
        "])\n",
        "\n",
        "# Compile the model\n",
        "cnn_model.compile(optimizer='adam', loss='categorical_crossentropy', metrics=['accuracy'])\n",
        "\n",
        "# Train the model\n",
        "history = cnn_model.fit(\n",
        "    train_generator,\n",
        "    epochs=25,\n",
        "    validation_data=validation_generator\n",
        ")\n",
        "\n",
        "# Plot training history\n",
        "plt.plot(history.history['accuracy'], label='train accuracy')\n",
        "plt.plot(history.history['val_accuracy'], label='validation accuracy')\n",
        "plt.legend()\n",
        "plt.title('Training and Validation Accuracy')\n",
        "plt.show()\n"
      ]
    },
    {
      "cell_type": "code",
      "execution_count": null,
      "metadata": {
        "colab": {
          "base_uri": "https://localhost:8080/"
        },
        "id": "u29CqpGkJO4n",
        "outputId": "96b3b946-5d0c-4ab4-d263-e51e7d87278a"
      },
      "outputs": [
        {
          "output_type": "stream",
          "name": "stdout",
          "text": [
            "10/10 [==============================] - 2s 232ms/step - loss: 0.0000e+00 - accuracy: 1.0000\n",
            "Test Accuracy: 1.0\n",
            "<function classification_report at 0x7a692967fd90>\n"
          ]
        },
        {
          "output_type": "stream",
          "name": "stderr",
          "text": [
            "/usr/local/lib/python3.10/dist-packages/keras/src/engine/training.py:3103: UserWarning: You are saving your model as an HDF5 file via `model.save()`. This file format is considered legacy. We recommend using instead the native Keras format, e.g. `model.save('my_model.keras')`.\n",
            "  saving_api.save_model(\n"
          ]
        }
      ],
      "source": [
        "# Evaluate the model on test data\n",
        "import numpy as np\n",
        "from sklearn.metrics import accuracy_score, classification_report\n",
        "test_loss, test_acc = cnn_model.evaluate(validation_generator)\n",
        "print(f\"Test Accuracy: {test_acc}\")\n",
        "\n",
        "# Save the best model as a .h5 file\n",
        "cnn_model.save('breast_image_model.h5')\n",
        "\n",
        "print(classification_report)\n"
      ]
    },
    {
      "cell_type": "code",
      "execution_count": null,
      "metadata": {
        "id": "kuzEFRhFqCap"
      },
      "outputs": [],
      "source": [
        "import numpy as np\n",
        "from sklearn.metrics import accuracy_score, classification_report\n"
      ]
    },
    {
      "cell_type": "code",
      "execution_count": null,
      "metadata": {
        "colab": {
          "base_uri": "https://localhost:8080/"
        },
        "id": "rdaD_KUbqDlu",
        "outputId": "9ada6e50-a174-490b-bac6-64fedb3cb058"
      },
      "outputs": [
        {
          "output_type": "stream",
          "name": "stdout",
          "text": [
            "10/10 [==============================] - 2s 231ms/step - loss: 0.0000e+00 - accuracy: 1.0000\n",
            "Test Accuracy: 1.0\n"
          ]
        }
      ],
      "source": [
        "test_loss, test_acc = cnn_model.evaluate(validation_generator)\n",
        "print(f\"Test Accuracy: {test_acc}\")\n"
      ]
    },
    {
      "cell_type": "code",
      "execution_count": null,
      "metadata": {
        "colab": {
          "base_uri": "https://localhost:8080/"
        },
        "id": "f6eD7bkYqKiJ",
        "outputId": "3698bb69-2da0-49cd-8e27-72e54a8ddcfa"
      },
      "outputs": [
        {
          "output_type": "stream",
          "name": "stdout",
          "text": [
            "10/10 [==============================] - 3s 249ms/step\n",
            "Test Accuracy: 1.0\n",
            "Classification Report:\n",
            "              precision    recall  f1-score   support\n",
            "\n",
            "           0       1.00      1.00      1.00       317\n",
            "\n",
            "    accuracy                           1.00       317\n",
            "   macro avg       1.00      1.00      1.00       317\n",
            "weighted avg       1.00      1.00      1.00       317\n",
            "\n"
          ]
        }
      ],
      "source": [
        "# Assuming validation_generator yields (x_test, y_test)\n",
        "y_pred = cnn_model.predict(validation_generator)\n",
        "y_pred = np.argmax(y_pred, axis=1)  # Convert probabilities to class labels\n",
        "\n",
        "# Assuming y_true are the true labels from validation_generator\n",
        "y_true = validation_generator.classes\n",
        "\n",
        "# Calculate metrics\n",
        "accuracy = accuracy_score(y_true, y_pred)\n",
        "report = classification_report(y_true, y_pred)\n",
        "\n",
        "# Print metrics\n",
        "print(f\"Test Accuracy: {accuracy}\")\n",
        "print(\"Classification Report:\")\n",
        "print(report)\n"
      ]
    },
    {
      "cell_type": "code",
      "execution_count": null,
      "metadata": {
        "id": "8jgESHbbSHeg"
      },
      "outputs": [],
      "source": [
        "import pickle\n",
        "\n",
        "# Assuming 'Logistic Regression' was the best performing model\n",
        "best_text_model = results['Naive Bayes']['model']\n",
        "\n",
        "# Save the model as a pickle file\n",
        "with open('text_input_model.pkl', 'wb') as file:\n",
        "    pickle.dump(best_text_model, file)\n"
      ]
    },
    {
      "cell_type": "code",
      "execution_count": null,
      "metadata": {
        "id": "A5DoCKm3TEsi"
      },
      "outputs": [],
      "source": [
        "from tensorflow.keras.models import load_model\n",
        "\n",
        "# Assuming 'model_cnn' was the best performing CNN model\n",
        "best_image_model_path = 'breast_image_model.h5'\n",
        "\n",
        "# Load the model\n",
        "best_image_model = load_model(best_image_model_path)\n",
        "\n",
        "# Save the model as a pickle file (not directly possible for keras/tensorflow models, so saving as h5 is common practice)\n",
        "# Alternatively, you could save the model architecture and weights separately\n",
        "# best_image_model.save('image_input_model.h5')\n"
      ]
    },
    {
      "cell_type": "code",
      "execution_count": null,
      "metadata": {
        "id": "8kDefkiwTUJk"
      },
      "outputs": [],
      "source": [
        "from tensorflow.keras.models import load_model\n",
        "import pickle\n",
        "\n",
        "# Load the Keras model\n",
        "model_h5_path = 'breast_image_model.h5'\n",
        "model = load_model(model_h5_path)\n",
        "\n",
        "# Save model architecture as JSON\n",
        "model_architecture_json = model.to_json()\n",
        "with open('breast_image_model_architecture.json', 'w') as json_file:\n",
        "    json_file.write(model_architecture_json)\n",
        "\n",
        "# Save model weights as pickle\n",
        "model_weights_pkl_path = 'breast_image_model_weights.pkl'\n",
        "with open(model_weights_pkl_path, 'wb') as pkl_file:\n",
        "    pickle.dump(model.get_weights(), pkl_file)\n"
      ]
    },
    {
      "cell_type": "code",
      "execution_count": null,
      "metadata": {
        "id": "i_RVX7YOTpVM"
      },
      "outputs": [],
      "source": [
        "import pickle\n",
        "from tensorflow.keras.models import model_from_json\n",
        "\n",
        "# Load model architecture from JSON\n",
        "model_architecture_path = 'breast_image_model_architecture.json'\n",
        "with open(model_architecture_path, 'r') as json_file:\n",
        "    loaded_model_json = json_file.read()\n",
        "\n",
        "# Load model weights from pickle\n",
        "model_weights_path = 'breast_image_model_weights.pkl'\n",
        "with open(model_weights_path, 'rb') as pkl_file:\n",
        "    loaded_model_weights = pickle.load(pkl_file)\n",
        "\n",
        "# Reconstruct the model from architecture and weights\n",
        "loaded_model = model_from_json(loaded_model_json)\n",
        "loaded_model.set_weights(loaded_model_weights)\n",
        "\n",
        "# Optionally, compile the model if needed\n",
        "# loaded_model.compile(optimizer='adam', loss='categorical_crossentropy', metrics=['accuracy'])\n",
        "\n",
        "# Now, 'loaded_model' is ready to be used for predictions or further training\n"
      ]
    }
  ],
  "metadata": {
    "accelerator": "GPU",
    "colab": {
      "gpuType": "T4",
      "provenance": []
    },
    "kernelspec": {
      "display_name": "Python 3",
      "name": "python3"
    },
    "language_info": {
      "name": "python"
    }
  },
  "nbformat": 4,
  "nbformat_minor": 0
}